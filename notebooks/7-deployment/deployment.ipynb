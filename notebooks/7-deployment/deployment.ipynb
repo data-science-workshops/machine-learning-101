{
 "cells": [
  {
   "cell_type": "markdown",
   "metadata": {},
   "source": [
    "# Deployment"
   ]
  },
  {
   "cell_type": "markdown",
   "metadata": {},
   "source": [
    "* Deployment\n",
    "* Entwicklung von Software (und Hardware)\n",
    "* Beispiel: Condition Monitoring\n",
    " * Programm benötigt Eingabedaten (z.B. von Sensoren oder Maschinen)\n",
    " * Programm verarbeitet Eingabedaten mittels Modell und berechnet Ausgaben (z.B. aktueller Zustand der Maschine, Vorhersage einer Störung)\n",
    " * Visualisierung und Bereitstellung der Ausgaben des Programms"
   ]
  }
 ],
 "metadata": {
  "hide_input": false,
  "kernelspec": {
   "display_name": "Python 3",
   "language": "python",
   "name": "python3"
  },
  "language_info": {
   "codemirror_mode": {
    "name": "ipython",
    "version": 3
   },
   "file_extension": ".py",
   "mimetype": "text/x-python",
   "name": "python",
   "nbconvert_exporter": "python",
   "pygments_lexer": "ipython3",
   "version": "3.6.5"
  }
 },
 "nbformat": 4,
 "nbformat_minor": 2
}

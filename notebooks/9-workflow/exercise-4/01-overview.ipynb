{
 "cells": [
  {
   "cell_type": "markdown",
   "metadata": {},
   "source": [
    "# Overview"
   ]
  },
  {
   "cell_type": "code",
   "execution_count": null,
   "metadata": {},
   "outputs": [],
   "source": [
    "import os\n",
    "import io\n",
    "import sys\n",
    "import numpy as np \n",
    "import pandas as pd\n",
    "import seaborn as sns\n",
    "import matplotlib.pyplot as plt\n",
    "% matplotlib inline\n",
    "\n",
    "sys.path.append('../..')\n",
    "\n",
    "random_state = 42"
   ]
  },
  {
   "cell_type": "markdown",
   "metadata": {},
   "source": [
    "## Datensatz laden\n",
    "\n",
    "Quelle: [https://www.kaggle.com/c/titanic](https://www.kaggle.com/c/titanic)"
   ]
  },
  {
   "cell_type": "code",
   "execution_count": null,
   "metadata": {},
   "outputs": [],
   "source": [
    "df = pd.read_csv('../../datasets/titanic.csv')"
   ]
  },
  {
   "cell_type": "markdown",
   "metadata": {},
   "source": [
    "# Übersicht"
   ]
  },
  {
   "cell_type": "code",
   "execution_count": null,
   "metadata": {},
   "outputs": [],
   "source": [
    "df.head(n=5)"
   ]
  },
  {
   "cell_type": "markdown",
   "metadata": {},
   "source": [
    "## Informationen zum Datensatz\n",
    "Das Datenset dieser Übung ist ein [Kaggle Datensatz zum Titanic Unglück](https://www.kaggle.com/c/titanic). \n",
    "\n",
    "Der Untergang der RMS Titanic gehört zu den berüchtigtsten Schiffswracks der Geschichte. Am 15. April 1912, während ihrer Jungfernfahrt, sank die Titanic nach einer Kollision mit einem Eisberg und tötete 1502 von 2224 Passagieren und Besatzung. Diese sensationelle Tragödie erschütterte die internationale Gemeinschaft und führte zu besseren Sicherheitsbestimmungen für Schiffe.\n",
    "\n",
    "Einer der Gründe, warum das Unglück zu einem solchen Verlust von Leben führte war, dass es nicht genug Rettungsboote für die Passagiere und die Besatzung gab. Obwohl es einige Faktoren gab die die Überlebenschance verbesserten, waren einige Gruppen von Menschen eher überlebensfähig als andere, wie Frauen, Kinder und die Oberschicht.\n",
    "\n",
    "Die Spalte \"Survived\" gibt an, ob ein Passagier überlebt hat oder nicht."
   ]
  },
  {
   "cell_type": "markdown",
   "metadata": {},
   "source": [
    "## Beschreibende Statistik zum Datensatz"
   ]
  },
  {
   "cell_type": "code",
   "execution_count": null,
   "metadata": {},
   "outputs": [],
   "source": [
    "df.describe()"
   ]
  },
  {
   "cell_type": "markdown",
   "metadata": {},
   "source": [
    "# Visualisierung"
   ]
  },
  {
   "cell_type": "code",
   "execution_count": null,
   "metadata": {},
   "outputs": [],
   "source": [
    "# Place your code here\n",
    "\n",
    "# Beispiele: Fehlende Werte, Beziehung zwischen einzelnen Merkmalen, Korrelation zwischen den Merkmalen, ..."
   ]
  }
 ],
 "metadata": {
  "hide_input": false,
  "kernelspec": {
   "display_name": "Python 3",
   "language": "python",
   "name": "python3"
  },
  "language_info": {
   "codemirror_mode": {
    "name": "ipython",
    "version": 3
   },
   "file_extension": ".py",
   "mimetype": "text/x-python",
   "name": "python",
   "nbconvert_exporter": "python",
   "pygments_lexer": "ipython3",
   "version": "3.6.5"
  }
 },
 "nbformat": 4,
 "nbformat_minor": 2
}

{
 "cells": [
  {
   "cell_type": "markdown",
   "metadata": {},
   "source": [
    "# Sampling"
   ]
  },
  {
   "cell_type": "markdown",
   "metadata": {},
   "source": [
    "* Training Set\n",
    " * Zum Trainieren des Programms (Lernen des Modells)\n",
    "* Validation Set\n",
    " * Zum Tunen der Parameter des Programms (Hyperparameter-Tuning)\n",
    "* Test Set\n",
    " * Zur Vorhersage der Fehlerrate des Modells auf neuen Daten\n",
    " * Zur Vermeidung von Overfitting \n",
    " * Programm hat vor Test keine Kenntnis über diese Daten"
   ]
  }
 ],
 "metadata": {
  "hide_input": false,
  "kernelspec": {
   "display_name": "Python 3",
   "language": "python",
   "name": "python3"
  },
  "language_info": {
   "codemirror_mode": {
    "name": "ipython",
    "version": 3
   },
   "file_extension": ".py",
   "mimetype": "text/x-python",
   "name": "python",
   "nbconvert_exporter": "python",
   "pygments_lexer": "ipython3",
   "version": "3.6.5"
  }
 },
 "nbformat": 4,
 "nbformat_minor": 2
}

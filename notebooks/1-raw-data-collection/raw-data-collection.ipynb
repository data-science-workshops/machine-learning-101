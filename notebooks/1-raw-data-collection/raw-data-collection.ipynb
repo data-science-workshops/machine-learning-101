{
 "cells": [
  {
   "cell_type": "markdown",
   "metadata": {},
   "source": [
    "# Raw Data Collection"
   ]
  },
  {
   "cell_type": "markdown",
   "metadata": {},
   "source": [
    "In vielen Fällen wird mit vorhandenen Datensätzen gearbeitet, die im Laufe anderer Untersuchungen gesammelt wurden. Aber die Art und Weise, wie Daten gesammelt und gespeichert werden, kann die Fragen einschränken, die von ihr beantwortet werden können und relevante Daten sind nicht immer sofort verfügbar.\n",
    "\n",
    "In Anbetracht dieser Frage muss entschieden werden, wie die für die Beantwortung erforderlichen Informationen sammelt werden:\n",
    "\n",
    "* Stellen Sie fest, ob die Daten in der realen Welt existieren und relevant sind\n",
    "* Beantworten Sie für die Datenquellen folgende Fragen:\n",
    " * Sind die Daten jederzeit verfügbar?\n",
    " * Entstehen Kosten?\n",
    " * Muss der Datenschutz beachtet werden?\n",
    "* Koordinieren Sie sich mit Abteilungen oder Agenturen, die für die Datenbeschaffung benötigt werden\n",
    "\n",
    "Selbst die am besten konzipierte Datensammlung wird zu einigen Eigenheiten und Merkwürdigkeiten in den Daten führen - Tippfehler, Verfälschungen oder häufig missverstandene Fragen auf schlecht gestalteten Eingabemasken können Datensätze schnell und unbemerkt verfälschen.\n",
    "\n",
    "Während die Daten gesammelt werden, muss eine Überprüfung stattfinden, damit die Qualität gewährleistet werden kann. Außerdem bekommt man so ein Gefühl für die Daten. Speichern Sie die eingehenden Daten auf eine Weise, so dass später nachvollzogen werden kann woher die Daten stammen. So können Fehler nachvollzogen und ggf. korregiert werden."
   ]
  }
 ],
 "metadata": {
  "hide_input": false,
  "kernelspec": {
   "display_name": "Python 3",
   "language": "python",
   "name": "python3"
  },
  "language_info": {
   "codemirror_mode": {
    "name": "ipython",
    "version": 3
   },
   "file_extension": ".py",
   "mimetype": "text/x-python",
   "name": "python",
   "nbconvert_exporter": "python",
   "pygments_lexer": "ipython3",
   "version": "3.6.5"
  }
 },
 "nbformat": 4,
 "nbformat_minor": 2
}

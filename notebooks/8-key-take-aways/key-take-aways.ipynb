{
 "cells": [
  {
   "cell_type": "markdown",
   "metadata": {},
   "source": [
    "# Key take-aways"
   ]
  },
  {
   "cell_type": "markdown",
   "metadata": {},
   "source": [
    "* Bewältigung stetig wachsender Datenmengen durch Menschen unmöglich\n",
    "* Verarbeitung der Daten mit geeigneten Methoden des Machine Learnings in vielen Bereichen nützlich\n",
    "* Anpassung des allgemeinen Workflows und Auswahl der Methoden je nach Projekt\n",
    " * Sammlung und Pre-Processing der Rohdaten\n",
    " * Aufteilung der Datenmenge für Training und Test der Modelle\n",
    " * Optimierung der Modelle\n",
    " * Integration der Modelle im jeweiligen Anwendungsfall"
   ]
  }
 ],
 "metadata": {
  "hide_input": false,
  "kernelspec": {
   "display_name": "Python 3",
   "language": "python",
   "name": "python3"
  },
  "language_info": {
   "codemirror_mode": {
    "name": "ipython",
    "version": 3
   },
   "file_extension": ".py",
   "mimetype": "text/x-python",
   "name": "python",
   "nbconvert_exporter": "python",
   "pygments_lexer": "ipython3",
   "version": "3.6.5"
  }
 },
 "nbformat": 4,
 "nbformat_minor": 2
}

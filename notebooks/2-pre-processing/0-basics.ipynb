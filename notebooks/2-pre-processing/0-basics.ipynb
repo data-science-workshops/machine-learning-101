{
 "cells": [
  {
   "cell_type": "markdown",
   "metadata": {},
   "source": [
    "# Pre-Processing"
   ]
  },
  {
   "cell_type": "markdown",
   "metadata": {},
   "source": [
    "## Motivation\n",
    "\n",
    "* Daten visualisieren, verstehen und bereinigen\n",
    "* Programme lernen besser auf bereinigten Daten\n",
    "* Garbage-In --> Garbage-Out (bessere Datenbasis --> bessere Modelle)\n",
    "* Fokus von Data Science Projekten: Vorverarbeitungen"
   ]
  },
  {
   "cell_type": "markdown",
   "metadata": {},
   "source": [
    "## Datenbereinigung\n",
    "\n",
    "* Datenfehler (z.B. unterschiedliche Datentypen)\n",
    "* Missing Values\n",
    " * Löschen der Instanz\n",
    " * Manuelles Füllen\n",
    " * Automatisches Füllen (z.B. mit Mittelwert oder ML-Algorithmus)\n",
    "* Noise und Ausreißer (z.B. Glättung mit Tiefpassfiltern)"
   ]
  },
  {
   "cell_type": "markdown",
   "metadata": {},
   "source": [
    "## Behandlung unterschiedlicher Feature-Typen\n",
    "\n",
    "* Kategoriale Features \n",
    " * Endliche Anzahl / eindeutige Gruppen\n",
    " * Charakteristikum: nicht zwangsläufig logische Reihenfolge\n",
    " * Beispiele: Geschlecht, Wochentage, Grundfarben\n",
    "* Diskrete Features\n",
    " * Numerisch\n",
    " * Charakteristikum: Zählbare Anzahl von Werten zwischen zwei beliebigen Werten\n",
    " * Beispiel: Anzahl von Mängeln\n",
    "* Stetige Features\n",
    " * Numerisch\n",
    " * Charakteristikum: Unendliche Anzahl von Werten zwischen zwei beliebigen Werten\n",
    " * Beispiel: Länge eines Bauteils\n"
   ]
  },
  {
   "cell_type": "markdown",
   "metadata": {},
   "source": [
    "## Datenmanipulation\n",
    "\n",
    "* Normierung unterschiedlicher Skalen\n",
    "* Konvertierung (z.B. von Einheiten)\n",
    "* Diskretisierung stetiger Features\n",
    "* Erzeugung neuer Features aus vorhandenen Daten"
   ]
  },
  {
   "cell_type": "markdown",
   "metadata": {},
   "source": [
    "## Feature Selection & Datenintegration\n",
    "\n",
    "* Auswahl von einer Teilmenge der verfügbaren Features zur Reduzierung der Anzahl der Dimensionen\n",
    "* Zusammenführung von Daten aus heterogenen Quellen\n",
    " * Unterschiedliche Formate\n",
    " * Unterschiedliche Einheiten, ..."
   ]
  }
 ],
 "metadata": {
  "hide_input": false,
  "kernelspec": {
   "display_name": "Python 3",
   "language": "python",
   "name": "python3"
  },
  "language_info": {
   "codemirror_mode": {
    "name": "ipython",
    "version": 3
   },
   "file_extension": ".py",
   "mimetype": "text/x-python",
   "name": "python",
   "nbconvert_exporter": "python",
   "pygments_lexer": "ipython3",
   "version": "3.6.5"
  }
 },
 "nbformat": 4,
 "nbformat_minor": 2
}

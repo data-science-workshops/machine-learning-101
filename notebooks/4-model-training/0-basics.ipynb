{
 "cells": [
  {
   "cell_type": "markdown",
   "metadata": {},
   "source": [
    "# Model Training"
   ]
  },
  {
   "cell_type": "markdown",
   "metadata": {},
   "source": [
    "## Unterteilung der zu lernenden Aufgaben\n",
    "\n",
    "* Nach Art des Feedbacks zum lernenden Programm\n",
    " * Supervised Learning\n",
    " * Unsupervised Learning\n",
    " * Reinforcement Learning\n",
    " * Semi-Supervised Learning\n",
    "\n",
    "\n",
    "* Nach Art des Outputs des lernenden Programms \n",
    " * Classification\n",
    " * Regression\n",
    " * Clustering"
   ]
  },
  {
   "cell_type": "markdown",
   "metadata": {},
   "source": [
    "## Supervised Learning\n",
    "\n",
    "* Lernendes Programm bekommt Trainingsinstanzen, bestehend aus:\n",
    " * Einem oder mehreren Eingabedaten (Features)\n",
    " * Gewünschten Ausgaben (Labels); \u000b",
    "Bereitstellung durch einen „Lehrer“ \n",
    "* Programm lernt Mapping von den Features auf die Labels"
   ]
  },
  {
   "cell_type": "markdown",
   "metadata": {},
   "source": [
    "## Unsupervised Learning\n",
    "\n",
    "* Keine Labelvorgabe durch einen \"Lehrer\"\n",
    "* Lernendes Programm bekommt nur Features\n",
    "* Programm muss Muster in den Daten von alleine finden"
   ]
  },
  {
   "cell_type": "markdown",
   "metadata": {},
   "source": [
    "## Reinforcement Learning\n",
    "\n",
    "* Programm handelt in einer Umgebung\n",
    "* Sucht nach optimalen Aktionen für verschiedene Zustände der Umgebung\n",
    "* Um eigene Ziele zu erreichen\n",
    "* Jede Aktion des Programms kann von einem \"Lehrer\" belohnt oder bestraft werden, um anzuzeigen, ob der erreichte Zustand erwünscht oder unerwünscht ist\n",
    "* Beispielsweise bei Spielen wie Schach, Go, usw."
   ]
  },
  {
   "cell_type": "markdown",
   "metadata": {},
   "source": [
    "## Semi-Supervised Learning\n",
    "\n",
    "* Zwischen Supervised und Unsupervised Learning\n",
    "* \"Lehrer\" stellt nur einige Label der Trainingsinstanzen zur Verfügung"
   ]
  },
  {
   "cell_type": "markdown",
   "metadata": {},
   "source": [
    "## Klassifikation\n",
    "\n",
    "* Programm lernt ein Modell, welches neuen Instanzen ein oder mehrere Labels zuweisen kann\n",
    "* Diskrete Labels\n",
    "* Typischerweise Supervised Learning"
   ]
  },
  {
   "cell_type": "markdown",
   "metadata": {},
   "source": [
    "## Regression\n",
    "\n",
    "* Programm lernt ein Modell, welches neuen Instanzen ein stetiges Label zuweisen kann\n",
    "* Typischerweise Supervised Learning"
   ]
  },
  {
   "cell_type": "markdown",
   "metadata": {},
   "source": [
    "## Klassifikation vs. Regression\n",
    "\n",
    "![Klassifikation vs. Regression](../images/classification_vs_regression.png)"
   ]
  },
  {
   "cell_type": "markdown",
   "metadata": {},
   "source": [
    "## Clustering\n",
    "\n",
    "* Programm muss Instanzen in Gruppen unterteilen\n",
    "* Ohne gegebene Informationen über die Gruppen\n",
    "* Typischerweise Unsupervised Learning"
   ]
  },
  {
   "cell_type": "markdown",
   "metadata": {},
   "source": [
    "## Overfitting\n",
    "\n",
    "* Programm lernt Trainingsdaten \"auswendig\", statt ein auf den Daten generalisiertes Modell zu lernen\n",
    "* Ziel ist, das Muster in den Daten zu lernen, nicht die Instanzen\n",
    "* Programm kann Label für neue Instanzen nur schlecht vorhersagen"
   ]
  },
  {
   "cell_type": "markdown",
   "metadata": {},
   "source": [
    "![Underfitting vs. Overfitting](../images/underfitting_vs_overfitting.png)"
   ]
  },
  {
   "cell_type": "markdown",
   "metadata": {},
   "source": [
    "## Model Training mit Overfitting"
   ]
  },
  {
   "cell_type": "markdown",
   "metadata": {},
   "source": [
    "![Underfitting vs. Overfitting](../images/overfitting_curve.png)"
   ]
  }
 ],
 "metadata": {
  "hide_input": false,
  "kernelspec": {
   "display_name": "Python 3",
   "language": "python",
   "name": "python3"
  },
  "language_info": {
   "codemirror_mode": {
    "name": "ipython",
    "version": 3
   },
   "file_extension": ".py",
   "mimetype": "text/x-python",
   "name": "python",
   "nbconvert_exporter": "python",
   "pygments_lexer": "ipython3",
   "version": "3.6.5"
  }
 },
 "nbformat": 4,
 "nbformat_minor": 2
}

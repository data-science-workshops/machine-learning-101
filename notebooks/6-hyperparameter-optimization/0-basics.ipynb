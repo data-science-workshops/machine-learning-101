{
 "cells": [
  {
   "cell_type": "markdown",
   "metadata": {},
   "source": [
    "# Hyperparameter Optimization"
   ]
  },
  {
   "cell_type": "markdown",
   "metadata": {},
   "source": [
    "## Tuning von Modell-Hyperparametern\n",
    "\n",
    "* Parameter der Modelle, welche nicht direkt im Training gelernt werden und separat optimiert werden müssen\n",
    "* Ziel: Verbesserung der Modell-Performance und Generalisationsfähigkeit des Modells\n",
    "* Umsetzung oftmals durch Grid Search\n",
    "* Grid Search ist sehr aufwendig, da Modelle für alle gewählten Parameter-Kombinationen trainiert und evaluiert werden müssen"
   ]
  }
 ],
 "metadata": {
  "hide_input": false,
  "kernelspec": {
   "display_name": "Python 3",
   "language": "python",
   "name": "python3"
  },
  "language_info": {
   "codemirror_mode": {
    "name": "ipython",
    "version": 3
   },
   "file_extension": ".py",
   "mimetype": "text/x-python",
   "name": "python",
   "nbconvert_exporter": "python",
   "pygments_lexer": "ipython3",
   "version": "3.6.5"
  }
 },
 "nbformat": 4,
 "nbformat_minor": 2
}
